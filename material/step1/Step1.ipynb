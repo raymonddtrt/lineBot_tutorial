{
 "cells": [
  {
   "cell_type": "code",
   "execution_count": 1,
   "metadata": {},
   "outputs": [
    {
     "data": {
      "text/plain": [
       "'\\nStep1\\n\\n當用戶關注、發訊息，把Json寫進txt檔，並Echo\\n\\n目標:\\n學會使用FollowEvent、TextSendMessage\\n查看Line傳過來的Json形式\\n\\n'"
      ]
     },
     "execution_count": 1,
     "metadata": {},
     "output_type": "execute_result"
    }
   ],
   "source": [
    "\"\"\"\n",
    "Step1\n",
    "\n",
    "當用戶關注、發訊息，把Json寫進txt檔，並Echo\n",
    "\n",
    "目標:\n",
    "學會使用FollowEvent、TextSendMessage\n",
    "查看Line傳過來的Json形式\n",
    "\n",
    "\"\"\""
   ]
  },
  {
   "cell_type": "code",
   "execution_count": 2,
   "metadata": {},
   "outputs": [],
   "source": [
    "# 區塊1\n",
    "# 匯入套件\n",
    "from flask import Flask, request, abort\n",
    "\n",
    "from linebot import (\n",
    "    LineBotApi, WebhookHandler\n",
    ")\n",
    "from linebot.exceptions import (\n",
    "    InvalidSignatureError\n",
    ")\n",
    "from linebot.models import (\n",
    "    MessageEvent, TextMessage, TextSendMessage, FollowEvent\n",
    ")\n",
    "\n",
    "import json"
   ]
  },
  {
   "cell_type": "code",
   "execution_count": 3,
   "metadata": {},
   "outputs": [],
   "source": [
    "# 區塊2\n",
    "# 啟用API\n",
    "# 要先從 secretFile.txt 取出 channelAccessToken 和 channelSecret\n",
    "\n",
    "app = Flask(__name__)\n",
    "\n",
    "secretFile = json.load(open(\"../secretFile.txt\",'r'))\n",
    "channelAccessToken = secretFile['channelAccessToken']\n",
    "channelSecret = secretFile['channelSecret']\n",
    "\n",
    "line_bot_api = LineBotApi(channelAccessToken)\n",
    "handler = WebhookHandler(channelSecret)"
   ]
  },
  {
   "cell_type": "code",
   "execution_count": 4,
   "metadata": {},
   "outputs": [],
   "source": [
    "# 區塊3\n",
    "# 設置入口\n",
    "\n",
    "# 從 Line 的 Webhook URL 接到這裡\n",
    "@app.route(\"/\", methods=['POST'])\n",
    "def callback():\n",
    "    # get X-Line-Signature header value\n",
    "    signature = request.headers['X-Line-Signature']\n",
    "\n",
    "    # get request body as text\n",
    "    body = request.get_data(as_text=True)\n",
    "    app.logger.info(\"Request body: \" + body)\n",
    "\n",
    "    # handle webhook body\n",
    "    try:\n",
    "        handler.handle(body, signature)\n",
    "    except InvalidSignatureError:\n",
    "        print(\"Invalid signature. Please check your channel access token/channel secret.\")\n",
    "        abort(400)\n",
    "\n",
    "    return 'OK'"
   ]
  },
  {
   "cell_type": "code",
   "execution_count": 5,
   "metadata": {},
   "outputs": [],
   "source": [
    "# 區塊4-1\n",
    "# 設定導流的事件\n",
    "# 收到 FollowEvent\n",
    "\n",
    "@handler.add(FollowEvent)\n",
    "def handle_follow(event):\n",
    "    \n",
    "    # 將接到的 Json 寫入 recordJsonFromLine.txt\n",
    "    recordFile = open(\"../recordJsonFromLine.txt\",'a')\n",
    "    recordFile.write(str(event) + \"\\n\")\n",
    "    print(str(event))"
   ]
  },
  {
   "cell_type": "code",
   "execution_count": 6,
   "metadata": {},
   "outputs": [],
   "source": [
    "# 區塊4-2\n",
    "# 設定導流的事件\n",
    "# 收到 MessageEvent\n",
    "# MessageEvent子分類-TextMessage\n",
    "\n",
    "@handler.add(MessageEvent, message=TextMessage)\n",
    "def handle_message(event):\n",
    "    \n",
    "    # 將接到的 Json 寫入 recordJsonFromLine.txt\n",
    "    recordFile = open(\"../recordJsonFromLine.txt\",'a')\n",
    "    recordFile.write(str(event) + \"\\n\")\n",
    "    print(str(event))\n",
    "    \n",
    "    # 回覆文字訊息，用戶說甚麼，就回覆甚麼\n",
    "    line_bot_api.reply_message(\n",
    "        event.reply_token,\n",
    "        TextSendMessage(text=event.message.text))"
   ]
  },
  {
   "cell_type": "code",
   "execution_count": 7,
   "metadata": {},
   "outputs": [
    {
     "name": "stderr",
     "output_type": "stream",
     "text": [
      " * Running on http://0.0.0.0:5000/ (Press CTRL+C to quit)\n"
     ]
    },
    {
     "name": "stdout",
     "output_type": "stream",
     "text": [
      "{\"message\": {\"id\": \"9777714505661\", \"text\": \"[::richmenu::]\\u5404\\u7a2e\\u8a9e\\u9304\", \"type\": \"text\"}, \"replyToken\": \"5f4387830a174e07b84a10b3d2958296\", \"source\": {\"type\": \"user\", \"userId\": \"U3e61d72f01f625028c87e434e3a894d0\"}, \"timestamp\": 1556537391090, \"type\": \"message\"}\n"
     ]
    },
    {
     "name": "stderr",
     "output_type": "stream",
     "text": [
      "172.17.0.3 - - [29/Apr/2019 11:29:52] \"POST / HTTP/1.1\" 200 -\n"
     ]
    }
   ],
   "source": [
    "# 區塊5\n",
    "# 啟動Server\n",
    "\n",
    "if __name__ == \"__main__\":\n",
    "    app.run(host='0.0.0.0')"
   ]
  },
  {
   "cell_type": "code",
   "execution_count": null,
   "metadata": {},
   "outputs": [],
   "source": []
  }
 ],
 "metadata": {
  "kernelspec": {
   "display_name": "Python 3",
   "language": "python",
   "name": "python3"
  },
  "language_info": {
   "codemirror_mode": {
    "name": "ipython",
    "version": 3
   },
   "file_extension": ".py",
   "mimetype": "text/x-python",
   "name": "python",
   "nbconvert_exporter": "python",
   "pygments_lexer": "ipython3",
   "version": "3.7.3"
  }
 },
 "nbformat": 4,
 "nbformat_minor": 2
}
