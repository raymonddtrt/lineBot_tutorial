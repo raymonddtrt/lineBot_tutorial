{
 "cells": [
  {
   "cell_type": "code",
   "execution_count": 1,
   "metadata": {},
   "outputs": [
    {
     "data": {
      "text/plain": [
       "'\\n當用戶關注、發訊息，把Json寫進txt檔，並Echo\\n\\n'"
      ]
     },
     "execution_count": 1,
     "metadata": {},
     "output_type": "execute_result"
    }
   ],
   "source": [
    "\"\"\"\n",
    "當用戶關注、發訊息，把Json寫進txt檔，並Echo\n",
    "\n",
    "\"\"\""
   ]
  },
  {
   "cell_type": "code",
   "execution_count": 2,
   "metadata": {},
   "outputs": [],
   "source": [
    "from flask import Flask, request, abort\n",
    "\n",
    "from linebot import (\n",
    "    LineBotApi, WebhookHandler\n",
    ")\n",
    "from linebot.exceptions import (\n",
    "    InvalidSignatureError\n",
    ")\n",
    "from linebot.models import (\n",
    "    MessageEvent, TextMessage, TextSendMessage, FollowEvent\n",
    ")\n",
    "\n",
    "import json\n",
    "\n",
    "app = Flask(__name__)\n",
    "\n",
    "# 取出 channelAccessToken 和 channelSecret\n",
    "secretFile = json.load(open(\"../secretFile.txt\",'r'))\n",
    "channelAccessToken = secretFile['channelAccessToken']\n",
    "channelSecret = secretFile['channelSecret']\n",
    "\n",
    "line_bot_api = LineBotApi(channelAccessToken)\n",
    "handler = WebhookHandler(channelSecret)\n",
    "\n",
    "# 從 Line 的 Webhook URL 接到這裡\n",
    "@app.route(\"/\", methods=['POST'])\n",
    "def callback():\n",
    "    # get X-Line-Signature header value\n",
    "    signature = request.headers['X-Line-Signature']\n",
    "\n",
    "    # get request body as text\n",
    "    body = request.get_data(as_text=True)\n",
    "    app.logger.info(\"Request body: \" + body)\n",
    "\n",
    "    # handle webhook body\n",
    "    try:\n",
    "        handler.handle(body, signature)\n",
    "    except InvalidSignatureError:\n",
    "        print(\"Invalid signature. Please check your channel access token/channel secret.\")\n",
    "        abort(400)\n",
    "\n",
    "    return 'OK'"
   ]
  },
  {
   "cell_type": "code",
   "execution_count": 3,
   "metadata": {},
   "outputs": [],
   "source": [
    "# 當收到 FollowEvent\n",
    "@handler.add(FollowEvent)\n",
    "def handle_follow(event):\n",
    "    \n",
    "    # 將接到的 Json 寫入 recordJsonFromLine.txt\n",
    "    recordFile = open(\"../recordJsonFromLine.txt\",'a')\n",
    "    recordFile.write(str(event) + \"\\n\")\n",
    "    print(str(event))"
   ]
  },
  {
   "cell_type": "code",
   "execution_count": 4,
   "metadata": {},
   "outputs": [],
   "source": [
    "# 當收到 MessageEvent, 而且是文字訊息\n",
    "@handler.add(MessageEvent, message=TextMessage)\n",
    "def handle_message(event):\n",
    "    \n",
    "    # 將接到的 Json 寫入 recordJsonFromLine.txt\n",
    "    recordFile = open(\"../recordJsonFromLine.txt\",'a')\n",
    "    recordFile.write(str(event) + \"\\n\")\n",
    "    print(str(event))\n",
    "    \n",
    "    # 回復文字訊息\n",
    "    line_bot_api.reply_message(\n",
    "        event.reply_token,\n",
    "        TextSendMessage(text=event.message.text))"
   ]
  },
  {
   "cell_type": "code",
   "execution_count": null,
   "metadata": {},
   "outputs": [
    {
     "name": "stderr",
     "output_type": "stream",
     "text": [
      " * Running on http://0.0.0.0:5000/ (Press CTRL+C to quit)\n"
     ]
    },
    {
     "name": "stdout",
     "output_type": "stream",
     "text": [
      "{\"message\": {\"id\": \"9756055143441\", \"text\": \"\\u54c8\\u54c8\", \"type\": \"text\"}, \"replyToken\": \"27e36e9486c54190bca54594a791e151\", \"source\": {\"type\": \"user\", \"userId\": \"U3e61d72f01f625028c87e434e3a894d0\"}, \"timestamp\": 1556203751713, \"type\": \"message\"}\n"
     ]
    },
    {
     "name": "stderr",
     "output_type": "stream",
     "text": [
      "172.17.0.3 - - [25/Apr/2019 13:48:15] \"POST / HTTP/1.1\" 200 -\n"
     ]
    }
   ],
   "source": [
    "# 啟動 Server\n",
    "if __name__ == \"__main__\":\n",
    "    app.run(host='0.0.0.0')"
   ]
  },
  {
   "cell_type": "code",
   "execution_count": null,
   "metadata": {},
   "outputs": [],
   "source": []
  }
 ],
 "metadata": {
  "kernelspec": {
   "display_name": "Python 3",
   "language": "python",
   "name": "python3"
  },
  "language_info": {
   "codemirror_mode": {
    "name": "ipython",
    "version": 3
   },
   "file_extension": ".py",
   "mimetype": "text/x-python",
   "name": "python",
   "nbconvert_exporter": "python",
   "pygments_lexer": "ipython3",
   "version": "3.7.3"
  }
 },
 "nbformat": 4,
 "nbformat_minor": 2
}
