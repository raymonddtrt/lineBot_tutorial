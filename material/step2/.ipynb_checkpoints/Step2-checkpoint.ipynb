{
 "cells": [
  {
   "cell_type": "code",
   "execution_count": 6,
   "metadata": {},
   "outputs": [],
   "source": [
    "\"\"\"\n",
    "richmenu設定Json\n",
    "\"\"\"\n",
    "richmenuJson=\"\"\"\n",
    "{\n",
    "  \"size\": {\n",
    "    \"width\": 2500,\n",
    "    \"height\": 1686\n",
    "  },\n",
    "  \"selected\": true,\n",
    "  \"name\": \"richmenu\",\n",
    "  \"chatBarText\": \"打開選單吧!\",\n",
    "  \"areas\": [\n",
    "    {\n",
    "      \"bounds\": {\n",
    "        \"x\": 147,\n",
    "        \"y\": 362,\n",
    "        \"width\": 669,\n",
    "        \"height\": 319\n",
    "      },\n",
    "      \"action\": {\n",
    "        \"type\": \"message\",\n",
    "        \"text\": \"[::richmenu::]各種語錄\"\n",
    "      }\n",
    "    },\n",
    "    {\n",
    "      \"bounds\": {\n",
    "        \"x\": 151,\n",
    "        \"y\": 951,\n",
    "        \"width\": 648,\n",
    "        \"height\": 302\n",
    "      },\n",
    "      \"action\": {\n",
    "        \"type\": \"message\",\n",
    "        \"text\": \"[::richmenu::]古人語錄\"\n",
    "      }\n",
    "    },\n",
    "    {\n",
    "      \"bounds\": {\n",
    "        \"x\": 1056,\n",
    "        \"y\": 362,\n",
    "        \"width\": 652,\n",
    "        \"height\": 303\n",
    "      },\n",
    "      \"action\": {\n",
    "        \"type\": \"message\",\n",
    "        \"text\": \"[::richmenu::]隨機問答\"\n",
    "      }\n",
    "    },\n",
    "    {\n",
    "      \"bounds\": {\n",
    "        \"x\": 1056,\n",
    "        \"y\": 942,\n",
    "        \"width\": 652,\n",
    "        \"height\": 303\n",
    "      },\n",
    "      \"action\": {\n",
    "        \"type\": \"uri\",\n",
    "        \"uri\": \"line://S/sticker/7341071\"\n",
    "      }\n",
    "    },\n",
    "    {\n",
    "      \"bounds\": {\n",
    "        \"x\": 1800,\n",
    "        \"y\": 698,\n",
    "        \"width\": 496,\n",
    "        \"height\": 244\n",
    "      },\n",
    "      \"action\": {\n",
    "        \"type\": \"message\",\n",
    "        \"text\": \"line://nv/recommendOA/@489ivqep\"\n",
    "      }\n",
    "    }\n",
    "  ]\n",
    "}\n",
    "\"\"\"\n"
   ]
  },
  {
   "cell_type": "code",
   "execution_count": 7,
   "metadata": {},
   "outputs": [],
   "source": [
    "\"\"\"\n",
    "取出secretFile資料，以供後續程式碼使用\n",
    "\n",
    "\"\"\"\n",
    "import json\n",
    "secretFile = json.load(open(\"../secretFile.txt\",'r'))\n",
    "channelAccessToken = secretFile['channelAccessToken']\n",
    "channelSecret = secretFile['channelSecret']\n",
    "userId = secretFile['userId']"
   ]
  },
  {
   "cell_type": "code",
   "execution_count": 8,
   "metadata": {},
   "outputs": [
    {
     "name": "stdout",
     "output_type": "stream",
     "text": [
      "<Response [200]>\n",
      "{\"richMenuId\":\"richmenu-d1cc960feefe45a5906b36de001f450f\"}\n"
     ]
    }
   ],
   "source": [
    "\"\"\"\n",
    "將先前準備的菜單設定檔，以Post消息寄發給Line，並取得richmenu Id\n",
    "\"\"\"\n",
    "\n",
    "import requests\n",
    "richmenuJson =json.loads(richmenuJson)\n",
    "\n",
    "createMenuEndpoint = 'https://api.line.me/v2/bot/richmenu'\n",
    "createMenuRequestHeader={'Content-Type':'application/json','Authorization':'Bearer %s' % channelAccessToken}\n",
    "\n",
    "#print(createMenuRequestHeader)\n",
    "\n",
    "lineCreateMenuResponse = requests.post(createMenuEndpoint,headers=createMenuRequestHeader,data=json.dumps(richmenuJson))\n",
    "\n",
    "print(lineCreateMenuResponse)\n",
    "print(lineCreateMenuResponse.text)\n"
   ]
  },
  {
   "cell_type": "code",
   "execution_count": 9,
   "metadata": {},
   "outputs": [
    {
     "name": "stdout",
     "output_type": "stream",
     "text": [
      "richmenu-d1cc960feefe45a5906b36de001f450f\n",
      "https://api.line.me/v2/bot/richmenu/richmenu-d1cc960feefe45a5906b36de001f450f/content\n",
      "<Response [200]>\n",
      "{}\n"
     ]
    }
   ],
   "source": [
    "\"\"\"\n",
    "將先前準備的選單照片，以POST方式傳給Line\n",
    "\"\"\"\n",
    "# 取得菜單Id \n",
    "uploadRichMenuId = json.loads(lineCreateMenuResponse.text)['richMenuId']\n",
    "print(uploadRichMenuId)\n",
    "#'https://api.line.me/v2/bot/richmenu/{richMenuId}/content'\n",
    "\n",
    "# 設定Line的遠端位置\n",
    "uploadMenuEndpoint='https://api.line.me/v2/bot/richmenu/%s/content' % uploadRichMenuId\n",
    "print(uploadMenuEndpoint)\n",
    "\n",
    "# 設定消息的基本安全憑證\n",
    "uploadMenuRequestHeader={'Content-Type':'image/jpeg','Authorization':'Bearer %s' % channelAccessToken}\n",
    "\n",
    "# 上傳照片\n",
    "uploadImageFile=open(\"../richmenu.png\",'rb')\n",
    "lineUploadMenuResponse=requests.post(uploadMenuEndpoint,headers=uploadMenuRequestHeader,data=uploadImageFile)\n",
    "\n",
    "print(lineUploadMenuResponse)\n",
    "print(lineUploadMenuResponse.text)"
   ]
  },
  {
   "cell_type": "code",
   "execution_count": 10,
   "metadata": {},
   "outputs": [
    {
     "name": "stdout",
     "output_type": "stream",
     "text": [
      "https://api.line.me/v2/bot/user/U3e61d72f01f625028c87e434e3a894d0/richmenu/richmenu-d1cc960feefe45a5906b36de001f450f\n",
      "<Response [200]>\n",
      "{}\n"
     ]
    }
   ],
   "source": [
    "\"\"\"\n",
    "將選單綁定到特定用戶身上\n",
    "\"\"\"\n",
    "# 取得菜單id\n",
    "linkRichMenuId=json.loads(lineCreateMenuResponse.text)['richMenuId']\n",
    "\n",
    "# 將菜單id與用戶id組合成遠端位置\n",
    "linkMenuEndpoint='https://api.line.me/v2/bot/user/%s/richmenu/%s' % (userId, linkRichMenuId)\n",
    "print(linkMenuEndpoint)\n",
    "\n",
    "# 設定消息基本安全憑證\n",
    "linkMenuRequestHeader={'Content-Type':'image/jpeg','Authorization':'Bearer %s' % channelAccessToken}\n",
    "\n",
    "# 發送消息\n",
    "lineLinkMenuResponse=requests.post(linkMenuEndpoint,headers=linkMenuRequestHeader)\n",
    "print(lineLinkMenuResponse)\n",
    "print(lineLinkMenuResponse.text)"
   ]
  },
  {
   "cell_type": "code",
   "execution_count": 11,
   "metadata": {},
   "outputs": [
    {
     "name": "stdout",
     "output_type": "stream",
     "text": [
      "https://api.line.me/v2/bot/user/U3e61d72f01f625028c87e434e3a894d0/richmenu\n",
      "<Response [200]>\n",
      "{}\n"
     ]
    }
   ],
   "source": [
    "\"\"\"\n",
    "解除選單與特定用戶的綁定\n",
    "\"\"\"\n",
    "# 取出用戶id，設定Line的遠端位置\n",
    "userMenuEndpoint='https://api.line.me/v2/bot/user/%s/richmenu' % (userId)\n",
    "print(userMenuEndpoint)\n",
    "\n",
    "# 設定消息的基本安全憑證\n",
    "userMenuRequestHeader={'Authorization':'Bearer %s' % channelAccessToken}\n",
    "\n",
    "# 發送消息告知\n",
    "lineUnregisterUserMenuResponse=requests.delete(userMenuEndpoint,headers=userMenuRequestHeader)\n",
    "print(lineUnregisterUserMenuResponse)\n",
    "print(lineUnregisterUserMenuResponse.text)"
   ]
  },
  {
   "cell_type": "code",
   "execution_count": null,
   "metadata": {},
   "outputs": [],
   "source": []
  }
 ],
 "metadata": {
  "kernelspec": {
   "display_name": "Python 3",
   "language": "python",
   "name": "python3"
  },
  "language_info": {
   "codemirror_mode": {
    "name": "ipython",
    "version": 3
   },
   "file_extension": ".py",
   "mimetype": "text/x-python",
   "name": "python",
   "nbconvert_exporter": "python",
   "pygments_lexer": "ipython3",
   "version": "3.7.3"
  }
 },
 "nbformat": 4,
 "nbformat_minor": 2
}
