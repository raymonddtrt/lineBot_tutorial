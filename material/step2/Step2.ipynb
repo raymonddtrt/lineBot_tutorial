{
 "cells": [
  {
   "cell_type": "code",
   "execution_count": 1,
   "metadata": {},
   "outputs": [
    {
     "data": {
      "text/plain": [
       "'\\nStep2\\n綁richmenu\\n\\n目標\\n1. 學會綁定richmenu\\n2. 學會刪除richmenu\\n\\n'"
      ]
     },
     "execution_count": 1,
     "metadata": {},
     "output_type": "execute_result"
    }
   ],
   "source": [
    "\"\"\"\n",
    "Step2\n",
    "綁richmenu\n",
    "\n",
    "目標\n",
    "1. 學會綁定richmenu\n",
    "2. 學會刪除richmenu\n",
    "\n",
    "\"\"\""
   ]
  },
  {
   "cell_type": "code",
   "execution_count": 7,
   "metadata": {},
   "outputs": [],
   "source": [
    "\"\"\"\n",
    "richmenu的Json設定檔\n",
    "\"\"\"\n",
    "richmenuJson=\"\"\"\n",
    "{\n",
    "  \"size\": {\n",
    "    \"width\": 2500,\n",
    "    \"height\": 1686\n",
    "  },\n",
    "  \"selected\": true,\n",
    "  \"name\": \"richmenu\",\n",
    "  \"chatBarText\": \"打開選單吧!\",\n",
    "  \"areas\": [\n",
    "    {\n",
    "      \"bounds\": {\n",
    "        \"x\": 147,\n",
    "        \"y\": 362,\n",
    "        \"width\": 669,\n",
    "        \"height\": 319\n",
    "      },\n",
    "      \"action\": {\n",
    "        \"type\": \"message\",\n",
    "        \"text\": \"[::richmenu::]各種語錄\"\n",
    "      }\n",
    "    },\n",
    "    {\n",
    "      \"bounds\": {\n",
    "        \"x\": 151,\n",
    "        \"y\": 951,\n",
    "        \"width\": 648,\n",
    "        \"height\": 302\n",
    "      },\n",
    "      \"action\": {\n",
    "        \"type\": \"message\",\n",
    "        \"text\": \"[::richmenu::]古人語錄\"\n",
    "      }\n",
    "    },\n",
    "    {\n",
    "      \"bounds\": {\n",
    "        \"x\": 1056,\n",
    "        \"y\": 362,\n",
    "        \"width\": 652,\n",
    "        \"height\": 303\n",
    "      },\n",
    "      \"action\": {\n",
    "        \"type\": \"message\",\n",
    "        \"text\": \"[::richmenu::]隨機問答\"\n",
    "      }\n",
    "    },\n",
    "    {\n",
    "      \"bounds\": {\n",
    "        \"x\": 1056,\n",
    "        \"y\": 942,\n",
    "        \"width\": 652,\n",
    "        \"height\": 303\n",
    "      },\n",
    "      \"action\": {\n",
    "        \"type\": \"uri\",\n",
    "        \"uri\": \"line://S/sticker/7417147\"\n",
    "      }\n",
    "    },\n",
    "    {\n",
    "      \"bounds\": {\n",
    "        \"x\": 1800,\n",
    "        \"y\": 698,\n",
    "        \"width\": 496,\n",
    "        \"height\": 244\n",
    "      },\n",
    "      \"action\": {\n",
    "        \"type\": \"uri\",\n",
    "        \"uri\": \"line://nv/recommendOA/@489ivqep\"\n",
    "      }\n",
    "    }\n",
    "  ]\n",
    "}\n",
    "\"\"\"\n"
   ]
  },
  {
   "cell_type": "code",
   "execution_count": 8,
   "metadata": {},
   "outputs": [],
   "source": [
    "\"\"\"\n",
    "取出secretFile資料，以供後續程式碼使用\n",
    "\n",
    "\"\"\"\n",
    "import json\n",
    "secretFile = json.load(open(\"../secretFile.txt\",'r'))\n",
    "channelAccessToken = secretFile['channelAccessToken']\n",
    "channelSecret = secretFile['channelSecret']\n",
    "userId = secretFile['userId']\n",
    "\n",
    "\"\"\"\n",
    "使用API，匯入必要資料\n",
    "\"\"\"\n",
    "from linebot import (\n",
    "    LineBotApi, WebhookHandler\n",
    ")\n",
    "\n",
    "line_bot_api = LineBotApi(channelAccessToken)\n"
   ]
  },
  {
   "cell_type": "code",
   "execution_count": 9,
   "metadata": {},
   "outputs": [
    {
     "name": "stdout",
     "output_type": "stream",
     "text": [
      "<Response [200]>\n",
      "{\"richMenuId\":\"richmenu-aa6d87f498dd0389f2d99a9020ec7174\"}\n"
     ]
    }
   ],
   "source": [
    "\"\"\"\n",
    "將先前準備的菜單設定檔，以Post消息寄發給Line，並取得richmenu Id\n",
    "\"\"\"\n",
    "\n",
    "import requests\n",
    "richmenuJson =json.loads(richmenuJson)\n",
    "\n",
    "createMenuEndpoint = 'https://api.line.me/v2/bot/richmenu'\n",
    "createMenuRequestHeader={'Content-Type':'application/json','Authorization':'Bearer %s' % channelAccessToken}\n",
    "\n",
    "#print(createMenuRequestHeader)\n",
    "\n",
    "lineCreateMenuResponse = requests.post(createMenuEndpoint,headers=createMenuRequestHeader,data=json.dumps(richmenuJson))\n",
    "rich_menu_id = lineCreateMenuResponse.text\n",
    "\n",
    "print(lineCreateMenuResponse)\n",
    "print(lineCreateMenuResponse.text)\n"
   ]
  },
  {
   "cell_type": "code",
   "execution_count": 19,
   "metadata": {},
   "outputs": [
    {
     "name": "stdout",
     "output_type": "stream",
     "text": [
      "richmenu-aa6d87f498dd0389f2d99a9020ec7174\n",
      "https://api.line.me/v2/bot/richmenu/richmenu-aa6d87f498dd0389f2d99a9020ec7174/content\n",
      "<Response [200]>\n",
      "{}\n"
     ]
    }
   ],
   "source": [
    "\"\"\"\n",
    "將先前準備的選單照片，以Post方式傳給Line\n",
    "\"\"\"\n",
    "    \n",
    "# 取得菜單Id \n",
    "uploadRichMenuId = json.loads(lineCreateMenuResponse.text)['richMenuId']\n",
    "print(uploadRichMenuId)\n",
    "#'https://api.line.me/v2/bot/richmenu/{richMenuId}/content'\n",
    "\n",
    "# 設定Line的遠端位置\n",
    "uploadMenuEndpoint='https://api.line.me/v2/bot/richmenu/%s/content' % uploadRichMenuId\n",
    "print(uploadMenuEndpoint)\n",
    "\n",
    "# 設定消息的基本安全憑證\n",
    "uploadMenuRequestHeader={'Content-Type':'image/jpeg','Authorization':'Bearer %s' % channelAccessToken}\n",
    "\n",
    "# 上傳照片\n",
    "uploadImageFile=open(\"../richmenu.png\",'rb')\n",
    "lineUploadMenuResponse=requests.post(uploadMenuEndpoint,headers=uploadMenuRequestHeader,data=uploadImageFile)\n",
    "\n",
    "print(lineUploadMenuResponse)\n",
    "print(lineUploadMenuResponse.text)"
   ]
  },
  {
   "cell_type": "code",
   "execution_count": 8,
   "metadata": {},
   "outputs": [
    {
     "data": {
      "text/plain": [
       "'\\n把拿到的Id，填入secretFile.txt，並儲存\\n'"
      ]
     },
     "execution_count": 8,
     "metadata": {},
     "output_type": "execute_result"
    }
   ],
   "source": [
    "\"\"\"\n",
    "把拿到的Id，填入secretFile.txt，並儲存\n",
    "\"\"\""
   ]
  },
  {
   "cell_type": "code",
   "execution_count": 22,
   "metadata": {},
   "outputs": [],
   "source": [
    "\"\"\"\n",
    "取出richmenuId，並將選單綁定到特定用戶身上\n",
    "\"\"\"\n",
    "secretFile = json.load(open(\"../secretFile.txt\",'r'))\n",
    "richmenuId = secretFile['richmenuId']\n",
    "\n",
    "line_bot_api.link_rich_menu_to_user(userId, richmenuId)"
   ]
  },
  {
   "cell_type": "code",
   "execution_count": 21,
   "metadata": {},
   "outputs": [],
   "source": [
    "\"\"\"\n",
    "解除選單與特定用戶的綁定\n",
    "\"\"\"\n",
    "line_bot_api.unlink_rich_menu_from_user(userId)"
   ]
  },
  {
   "cell_type": "code",
   "execution_count": null,
   "metadata": {},
   "outputs": [],
   "source": []
  }
 ],
 "metadata": {
  "kernelspec": {
   "display_name": "Python 3",
   "language": "python",
   "name": "python3"
  },
  "language_info": {
   "codemirror_mode": {
    "name": "ipython",
    "version": 3
   },
   "file_extension": ".py",
   "mimetype": "text/x-python",
   "name": "python",
   "nbconvert_exporter": "python",
   "pygments_lexer": "ipython3",
   "version": "3.7.3"
  }
 },
 "nbformat": 4,
 "nbformat_minor": 2
}
