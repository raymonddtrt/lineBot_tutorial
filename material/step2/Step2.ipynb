{
 "cells": [
  {
   "cell_type": "code",
   "execution_count": 18,
   "metadata": {},
   "outputs": [],
   "source": [
    "\"\"\"\n",
    "richmenu設定Json\n",
    "\"\"\"\n",
    "richmenuJson=\"\"\"\n",
    "{\n",
    "  \"size\": {\n",
    "    \"width\": 2500,\n",
    "    \"height\": 1686\n",
    "  },\n",
    "  \"selected\": true,\n",
    "  \"name\": \"richmenu\",\n",
    "  \"chatBarText\": \"打開選單吧!\",\n",
    "  \"areas\": [\n",
    "    {\n",
    "      \"bounds\": {\n",
    "        \"x\": 147,\n",
    "        \"y\": 362,\n",
    "        \"width\": 669,\n",
    "        \"height\": 319\n",
    "      },\n",
    "      \"action\": {\n",
    "        \"type\": \"message\",\n",
    "        \"text\": \"[::richmenu::]各種語錄\"\n",
    "      }\n",
    "    },\n",
    "    {\n",
    "      \"bounds\": {\n",
    "        \"x\": 151,\n",
    "        \"y\": 951,\n",
    "        \"width\": 648,\n",
    "        \"height\": 302\n",
    "      },\n",
    "      \"action\": {\n",
    "        \"type\": \"message\",\n",
    "        \"text\": \"[::richmenu::]古人語錄\"\n",
    "      }\n",
    "    },\n",
    "    {\n",
    "      \"bounds\": {\n",
    "        \"x\": 1056,\n",
    "        \"y\": 362,\n",
    "        \"width\": 652,\n",
    "        \"height\": 303\n",
    "      },\n",
    "      \"action\": {\n",
    "        \"type\": \"message\",\n",
    "        \"text\": \"[::richmenu::]隨機問答\"\n",
    "      }\n",
    "    },\n",
    "    {\n",
    "      \"bounds\": {\n",
    "        \"x\": 1056,\n",
    "        \"y\": 942,\n",
    "        \"width\": 652,\n",
    "        \"height\": 303\n",
    "      },\n",
    "      \"action\": {\n",
    "        \"type\": \"uri\",\n",
    "        \"uri\": \"line://S/sticker/7417147\"\n",
    "      }\n",
    "    },\n",
    "    {\n",
    "      \"bounds\": {\n",
    "        \"x\": 1800,\n",
    "        \"y\": 698,\n",
    "        \"width\": 496,\n",
    "        \"height\": 244\n",
    "      },\n",
    "      \"action\": {\n",
    "        \"type\": \"uri\",\n",
    "        \"uri\": \"line://nv/recommendOA/@489ivqep\"\n",
    "      }\n",
    "    }\n",
    "  ]\n",
    "}\n",
    "\"\"\"\n"
   ]
  },
  {
   "cell_type": "code",
   "execution_count": 19,
   "metadata": {},
   "outputs": [],
   "source": [
    "\"\"\"\n",
    "取出secretFile資料，以供後續程式碼使用\n",
    "\n",
    "\"\"\"\n",
    "import json\n",
    "secretFile = json.load(open(\"../secretFile.txt\",'r'))\n",
    "channelAccessToken = secretFile['channelAccessToken']\n",
    "channelSecret = secretFile['channelSecret']\n",
    "userId = secretFile['userId']"
   ]
  },
  {
   "cell_type": "code",
   "execution_count": 20,
   "metadata": {},
   "outputs": [
    {
     "name": "stdout",
     "output_type": "stream",
     "text": [
      "<Response [200]>\n",
      "{\"richMenuId\":\"richmenu-69e79825457183873d40adc840308db3\"}\n"
     ]
    }
   ],
   "source": [
    "\"\"\"\n",
    "將先前準備的菜單設定檔，以Post消息寄發給Line，並取得richmenu Id\n",
    "\"\"\"\n",
    "\n",
    "import requests\n",
    "richmenuJson =json.loads(richmenuJson)\n",
    "\n",
    "createMenuEndpoint = 'https://api.line.me/v2/bot/richmenu'\n",
    "createMenuRequestHeader={'Content-Type':'application/json','Authorization':'Bearer %s' % channelAccessToken}\n",
    "\n",
    "#print(createMenuRequestHeader)\n",
    "\n",
    "lineCreateMenuResponse = requests.post(createMenuEndpoint,headers=createMenuRequestHeader,data=json.dumps(richmenuJson))\n",
    "\n",
    "print(lineCreateMenuResponse)\n",
    "print(lineCreateMenuResponse.text)\n"
   ]
  },
  {
   "cell_type": "code",
   "execution_count": 21,
   "metadata": {},
   "outputs": [
    {
     "name": "stdout",
     "output_type": "stream",
     "text": [
      "richmenu-69e79825457183873d40adc840308db3\n",
      "https://api.line.me/v2/bot/richmenu/richmenu-69e79825457183873d40adc840308db3/content\n",
      "<Response [200]>\n",
      "{}\n"
     ]
    }
   ],
   "source": [
    "\"\"\"\n",
    "將先前準備的選單照片，以POST方式傳給Line\n",
    "\"\"\"\n",
    "# 取得菜單Id \n",
    "uploadRichMenuId = json.loads(lineCreateMenuResponse.text)['richMenuId']\n",
    "print(uploadRichMenuId)\n",
    "#'https://api.line.me/v2/bot/richmenu/{richMenuId}/content'\n",
    "\n",
    "# 設定Line的遠端位置\n",
    "uploadMenuEndpoint='https://api.line.me/v2/bot/richmenu/%s/content' % uploadRichMenuId\n",
    "print(uploadMenuEndpoint)\n",
    "\n",
    "# 設定消息的基本安全憑證\n",
    "uploadMenuRequestHeader={'Content-Type':'image/jpeg','Authorization':'Bearer %s' % channelAccessToken}\n",
    "\n",
    "# 上傳照片\n",
    "uploadImageFile=open(\"../richmenu.png\",'rb')\n",
    "lineUploadMenuResponse=requests.post(uploadMenuEndpoint,headers=uploadMenuRequestHeader,data=uploadImageFile)\n",
    "\n",
    "print(lineUploadMenuResponse)\n",
    "print(lineUploadMenuResponse.text)"
   ]
  },
  {
   "cell_type": "code",
   "execution_count": null,
   "metadata": {},
   "outputs": [],
   "source": [
    "\"\"\"\n",
    "使用API，匯入必要資料\n",
    "\"\"\"\n",
    "from linebot import (\n",
    "    LineBotApi, WebhookHandler\n",
    ")\n",
    "\n",
    "secretFile = json.load(open(\"../secretFile.txt\",\"r\"))\n",
    "richmenuId = secretFile['richmenuId']\n",
    "channelAccessToken = secretFile['channelAccessToken']\n",
    "channelSecret = secretFile['channelSecret']\n",
    "userId = secretFile['userId']"
   ]
  },
  {
   "cell_type": "code",
   "execution_count": 26,
   "metadata": {},
   "outputs": [],
   "source": [
    "\"\"\"\n",
    "將選單綁定到特定用戶身上\n",
    "\"\"\"\n",
    "\n",
    "\n",
    "from linebot import (\n",
    "    LineBotApi, WebhookHandler\n",
    ")\n",
    "\n",
    "secretFile = json.load(open(\"../secretFile.txt\",\"r\"))\n",
    "richmenuId = secretFile['richmenuId']\n",
    "channelAccessToken = secretFile['channelAccessToken']\n",
    "channelSecret = secretFile['channelSecret']\n",
    "userId = secretFile['userId']\n",
    "\n",
    "line_bot_api = LineBotApi(channelAccessToken)\n",
    "\n",
    "line_bot_api.link_rich_menu_to_user(userId, richmenuId)"
   ]
  },
  {
   "cell_type": "code",
   "execution_count": 28,
   "metadata": {},
   "outputs": [],
   "source": [
    "\"\"\"\n",
    "解除選單與特定用戶的綁定\n",
    "\"\"\"\n",
    "line_bot_api.unlink_rich_menu_from_user(userId)"
   ]
  },
  {
   "cell_type": "code",
   "execution_count": 24,
   "metadata": {},
   "outputs": [
    {
     "name": "stderr",
     "output_type": "stream",
     "text": [
      " * Running on http://0.0.0.0:5000/ (Press CTRL+C to quit)\n",
      "172.17.0.3 - - [28/Apr/2019 08:56:34] \"POST / HTTP/1.1\" 200 -\n",
      "172.17.0.3 - - [28/Apr/2019 08:56:36] \"POST / HTTP/1.1\" 200 -\n"
     ]
    }
   ],
   "source": []
  },
  {
   "cell_type": "code",
   "execution_count": null,
   "metadata": {},
   "outputs": [],
   "source": []
  }
 ],
 "metadata": {
  "kernelspec": {
   "display_name": "Python 3",
   "language": "python",
   "name": "python3"
  },
  "language_info": {
   "codemirror_mode": {
    "name": "ipython",
    "version": 3
   },
   "file_extension": ".py",
   "mimetype": "text/x-python",
   "name": "python",
   "nbconvert_exporter": "python",
   "pygments_lexer": "ipython3",
   "version": "3.7.3"
  }
 },
 "nbformat": 4,
 "nbformat_minor": 2
}
