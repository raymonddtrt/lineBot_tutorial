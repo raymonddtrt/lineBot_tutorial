{
 "cells": [
  {
   "cell_type": "code",
   "execution_count": null,
   "metadata": {},
   "outputs": [
    {
     "name": "stderr",
     "output_type": "stream",
     "text": [
      " * Running on http://0.0.0.0:5000/ (Press CTRL+C to quit)\n",
      "172.17.0.3 - - [28/Apr/2019 10:06:36] \"POST / HTTP/1.1\" 200 -\n"
     ]
    },
    {
     "name": "stdout",
     "output_type": "stream",
     "text": [
      "簡辰祐\n",
      "U3e61d72f01f625028c87e434e3a894d0\n",
      "https://profile.line-scdn.net/0hcm5ZbtGUPEIIIxFPQ8BDFTRmMi9_DToKcEF1dC0gYSctQ3tBMxZydyolY3sgGywVNUJ2IypwZyUg\n",
      "None\n",
      "簡辰祐\n",
      "U3e61d72f01f625028c87e434e3a894d0\n",
      "https://profile.line-scdn.net/0hcm5ZbtGUPEIIIxFPQ8BDFTRmMi9_DToKcEF1dC0gYSctQ3tBMxZydyolY3sgGywVNUJ2IypwZyUg\n",
      "None\n"
     ]
    },
    {
     "name": "stderr",
     "output_type": "stream",
     "text": [
      "172.17.0.3 - - [28/Apr/2019 10:06:38] \"POST / HTTP/1.1\" 200 -\n"
     ]
    }
   ],
   "source": [
    "from flask import Flask, request, abort\n",
    "\n",
    "from linebot import (\n",
    "    LineBotApi, WebhookHandler\n",
    ")\n",
    "from linebot.exceptions import (\n",
    "    InvalidSignatureError\n",
    ")\n",
    "from linebot.models import (\n",
    "    MessageEvent, TextMessage, TextSendMessage, FollowEvent, ImageSendMessage, StickerSendMessage\n",
    ")\n",
    "\n",
    "import json\n",
    "import requests\n",
    "\n",
    "app = Flask(__name__)\n",
    "\n",
    "secretFile = json.load(open(\"../secretFile.txt\",\"r\"))\n",
    "richmenuId = secretFile['richmenuId']\n",
    "channelAccessToken = secretFile['channelAccessToken']\n",
    "channelSecret = secretFile['channelSecret']\n",
    "userId = secretFile['userId']\n",
    "\n",
    "line_bot_api = LineBotApi(channelAccessToken)\n",
    "handler = WebhookHandler(channelSecret)\n",
    "\n",
    "def getProfile():\n",
    "\n",
    "    profile = line_bot_api.get_profile(userId)\n",
    "    \n",
    "    print(profile.display_name)\n",
    "    print(profile.user_id)\n",
    "    print(profile.picture_url)\n",
    "    print(profile.status_message)\n",
    "    \n",
    "    return profile\n",
    "\n",
    "def linkRichmenuToUser():\n",
    "    line_bot_api.link_rich_menu_to_user(userId, richmenuId)\n",
    "\n",
    "\n",
    "@app.route(\"/\", methods=['POST'])\n",
    "def callback():\n",
    "    # get X-Line-Signature header value\n",
    "    signature = request.headers['X-Line-Signature']\n",
    "\n",
    "    # get request body as text\n",
    "    body = request.get_data(as_text=True)\n",
    "    app.logger.info(\"Request body: \" + body)\n",
    "\n",
    "    # handle webhook body\n",
    "    try:\n",
    "        handler.handle(body, signature)\n",
    "    except InvalidSignatureError:\n",
    "        print(\"Invalid signature. Please check your channel access token/channel secret.\")\n",
    "        abort(400)\n",
    "\n",
    "    return 'OK'\n",
    "\n",
    "\n",
    "@handler.add(FollowEvent)\n",
    "def Follow_message(event):\n",
    "    displayName = getProfile()\n",
    "    \n",
    "    profile = getProfile()\n",
    "    \n",
    "    displayName = profile.display_name\n",
    "    pictureUrl = profile.picture_url\n",
    "    \n",
    "    sendMessage = [\n",
    "        TextSendMessage(\n",
    "            text=\"哈囉%s，打開下面選單可以看到我們提供的服務喔!\" % (displayName)\n",
    "        ),\n",
    "        \n",
    "        TextSendMessage(\n",
    "            text=\"喔對了，這是你醜醜的照片\"\n",
    "        ),\n",
    "        \n",
    "        ImageSendMessage(\n",
    "            original_content_url= pictureUrl,\n",
    "            preview_image_url= pictureUrl\n",
    "        ),\n",
    "        \n",
    "        StickerSendMessage(\n",
    "            package_id='11537',\n",
    "            sticker_id='51626512'\n",
    "        )\n",
    "        \n",
    "    ]\n",
    "    \n",
    "    line_bot_api.reply_message(\n",
    "        event.reply_token,\n",
    "        sendMessage)\n",
    "    linkRichmenuToUser()\n",
    "\n",
    "if __name__ == \"__main__\":\n",
    "    app.run(host='0.0.0.0',port=5000)"
   ]
  },
  {
   "cell_type": "code",
   "execution_count": null,
   "metadata": {},
   "outputs": [],
   "source": []
  }
 ],
 "metadata": {
  "kernelspec": {
   "display_name": "Python 3",
   "language": "python",
   "name": "python3"
  },
  "language_info": {
   "codemirror_mode": {
    "name": "ipython",
    "version": 3
   },
   "file_extension": ".py",
   "mimetype": "text/x-python",
   "name": "python",
   "nbconvert_exporter": "python",
   "pygments_lexer": "ipython3",
   "version": "3.7.3"
  }
 },
 "nbformat": 4,
 "nbformat_minor": 2
}
