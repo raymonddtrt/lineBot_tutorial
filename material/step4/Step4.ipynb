{
 "cells": [
  {
   "cell_type": "code",
   "execution_count": 1,
   "metadata": {},
   "outputs": [
    {
     "data": {
      "text/plain": [
       "'\\nStep4\\n當用戶發貼圖，就回貼圖(亂數抽取)\\n\\n目標:\\n學會接收StickerMessage事件\\n\\n'"
      ]
     },
     "execution_count": 1,
     "metadata": {},
     "output_type": "execute_result"
    }
   ],
   "source": [
    "\"\"\"\n",
    "Step4\n",
    "當用戶發貼圖，就回貼圖(亂數抽取)\n",
    "\n",
    "目標:\n",
    "學會接收StickerMessage事件\n",
    "\n",
    "\"\"\""
   ]
  },
  {
   "cell_type": "code",
   "execution_count": 2,
   "metadata": {},
   "outputs": [],
   "source": [
    "# 區塊1\n",
    "# 匯入套件\n",
    "\n",
    "from flask import Flask, request, abort\n",
    "\n",
    "from linebot import (\n",
    "    LineBotApi, WebhookHandler\n",
    ")\n",
    "from linebot.exceptions import (\n",
    "    InvalidSignatureError\n",
    ")\n",
    "from linebot.models import (\n",
    "    MessageEvent, TextMessage, TextSendMessage, FollowEvent, ImageSendMessage, StickerSendMessage, StickerMessage\n",
    ")\n",
    "\n",
    "import json\n",
    "import random"
   ]
  },
  {
   "cell_type": "code",
   "execution_count": 3,
   "metadata": {},
   "outputs": [],
   "source": [
    "# 區塊2\n",
    "# 啟用API\n",
    "# 要先從 secretFile.txt 取出 channelAccessToken 和 channelSecret\n",
    "# 多增加 linkRichmenuToUser 方法\n",
    "# 多增加 getProfile 方法\n",
    "\n",
    "app = Flask(__name__)\n",
    "\n",
    "secretFile = json.load(open(\"../secretFile.txt\",\"r\"))\n",
    "richmenuId = secretFile['richmenuId']\n",
    "channelAccessToken = secretFile['channelAccessToken']\n",
    "channelSecret = secretFile['channelSecret']\n",
    "userId = secretFile['userId']\n",
    "\n",
    "line_bot_api = LineBotApi(channelAccessToken)\n",
    "handler = WebhookHandler(channelSecret)\n",
    "\n",
    "def linkRichmenuToUser():\n",
    "    line_bot_api.link_rich_menu_to_user(userId, richmenuId)\n",
    "    \n",
    "def getProfile():\n",
    "\n",
    "    profile = line_bot_api.get_profile(userId)\n",
    "    \n",
    "    print(profile.display_name)\n",
    "    print(profile.user_id)\n",
    "    print(profile.picture_url)\n",
    "    print(profile.status_message)\n",
    "    \n",
    "    return profile"
   ]
  },
  {
   "cell_type": "code",
   "execution_count": 4,
   "metadata": {},
   "outputs": [],
   "source": [
    "# 區塊3\n",
    "# 設置入口\n",
    "\n",
    "# 從 Line 的 Webhook URL 接到這裡\n",
    "@app.route(\"/\", methods=['POST'])\n",
    "def callback():\n",
    "    # get X-Line-Signature header value\n",
    "    signature = request.headers['X-Line-Signature']\n",
    "\n",
    "    # get request body as text\n",
    "    body = request.get_data(as_text=True)\n",
    "    app.logger.info(\"Request body: \" + body)\n",
    "\n",
    "    # handle webhook body\n",
    "    try:\n",
    "        handler.handle(body, signature)\n",
    "    except InvalidSignatureError:\n",
    "        print(\"Invalid signature. Please check your channel access token/channel secret.\")\n",
    "        abort(400)\n",
    "\n",
    "    return 'OK'"
   ]
  },
  {
   "cell_type": "code",
   "execution_count": 5,
   "metadata": {},
   "outputs": [],
   "source": [
    "# 區塊4-1\n",
    "# 設定導流的事件\n",
    "# 收到 FollowEvent\n",
    "\n",
    "@handler.add(FollowEvent)\n",
    "def Follow_message(event):\n",
    "    \n",
    "    # 拿到 getProfile 物件，\n",
    "    profile = getProfile()\n",
    "    \n",
    "    # 取得 display_name屬性\n",
    "    displayName = profile.display_name\n",
    "    \n",
    "    # 拿到 getProfile 物件，取得 picture_url屬性\n",
    "    pictureUrl = profile.picture_url\n",
    "    \n",
    "    # 放入等一下要傳的訊息\n",
    "    sendMessage = [\n",
    "        \n",
    "        # 文字消息1\n",
    "        TextSendMessage(\n",
    "            text=\"哈囉%s，打開下面選單可以看到我們提供的服務喔!\" % (displayName)\n",
    "        ),\n",
    "        \n",
    "        # 文字消息2\n",
    "        TextSendMessage(\n",
    "            text=\"喔對了，這是你醜醜的照片\"\n",
    "        ),\n",
    "        \n",
    "        # 圖片消息\n",
    "        ImageSendMessage(\n",
    "            original_content_url= pictureUrl,\n",
    "            preview_image_url= pictureUrl\n",
    "        ),\n",
    "        \n",
    "        # 貼圖消息\n",
    "        StickerSendMessage(\n",
    "            package_id='11537',\n",
    "            sticker_id='51626512'\n",
    "        )\n",
    "        \n",
    "    ]\n",
    "    \n",
    "    # 發送歡迎詞\n",
    "    line_bot_api.reply_message(\n",
    "        event.reply_token,\n",
    "        sendMessage)\n",
    "    \n",
    "    # 綁定richmenu\n",
    "    linkRichmenuToUser()"
   ]
  },
  {
   "cell_type": "code",
   "execution_count": 6,
   "metadata": {},
   "outputs": [],
   "source": [
    "# 區塊4-2\n",
    "# 設定導流的事件\n",
    "# 收到 MessageEvent\n",
    "# MessageEvent子分類-StickerMessage\n",
    "\n",
    "\n",
    "@handler.add(MessageEvent,message = StickerMessage)\n",
    "def stickerMessage(event):\n",
    "    \n",
    "    # 隨機抽取貼圖編號\n",
    "    stickerId = str(random.randint(51626494,51626533))\n",
    "    \n",
    "    \n",
    "    sendMessage = [\n",
    "        StickerSendMessage(\n",
    "            package_id='11537',\n",
    "            sticker_id=stickerId\n",
    "        )\n",
    "    ]\n",
    "    \n",
    "    line_bot_api.reply_message(\n",
    "        event.reply_token,\n",
    "        sendMessage\n",
    "    )"
   ]
  },
  {
   "cell_type": "code",
   "execution_count": null,
   "metadata": {},
   "outputs": [
    {
     "name": "stderr",
     "output_type": "stream",
     "text": [
      " * Running on http://0.0.0.0:5000/ (Press CTRL+C to quit)\n",
      "172.17.0.3 - - [30/Apr/2019 05:06:23] \"POST / HTTP/1.1\" 200 -\n",
      "172.17.0.3 - - [30/Apr/2019 05:06:28] \"POST / HTTP/1.1\" 200 -\n",
      "172.17.0.3 - - [30/Apr/2019 05:06:31] \"POST / HTTP/1.1\" 200 -\n"
     ]
    }
   ],
   "source": [
    "# 區塊5\n",
    "# 啟動Server\n",
    "\n",
    "if __name__ == \"__main__\":\n",
    "    app.run(host='0.0.0.0')"
   ]
  },
  {
   "cell_type": "code",
   "execution_count": null,
   "metadata": {},
   "outputs": [],
   "source": []
  }
 ],
 "metadata": {
  "kernelspec": {
   "display_name": "Python 3",
   "language": "python",
   "name": "python3"
  },
  "language_info": {
   "codemirror_mode": {
    "name": "ipython",
    "version": 3
   },
   "file_extension": ".py",
   "mimetype": "text/x-python",
   "name": "python",
   "nbconvert_exporter": "python",
   "pygments_lexer": "ipython3",
   "version": "3.7.3"
  }
 },
 "nbformat": 4,
 "nbformat_minor": 2
}
