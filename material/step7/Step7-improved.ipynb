{
 "cells": [
  {
   "cell_type": "code",
   "execution_count": 3,
   "metadata": {},
   "outputs": [
    {
     "name": "stderr",
     "output_type": "stream",
     "text": [
      " * Running on http://0.0.0.0:5000/ (Press CTRL+C to quit)\n",
      "172.17.0.3 - - [28/Apr/2019 16:58:59] \"POST / HTTP/1.1\" 200 -\n"
     ]
    },
    {
     "name": "stdout",
     "output_type": "stream",
     "text": [
      "簡辰祐\n",
      "U3e61d72f01f625028c87e434e3a894d0\n",
      "https://profile.line-scdn.net/0hcm5ZbtGUPEIIIxFPQ8BDFTRmMi9_DToKcEF1dC0gYSctQ3tBMxZydyolY3sgGywVNUJ2IypwZyUg\n",
      "None\n"
     ]
    },
    {
     "name": "stderr",
     "output_type": "stream",
     "text": [
      "172.17.0.3 - - [28/Apr/2019 16:59:00] \"POST / HTTP/1.1\" 200 -\n"
     ]
    },
    {
     "name": "stdout",
     "output_type": "stream",
     "text": [
      "玄\n",
      "U1f39ee75f517c12187fc8a22ebc7edad\n",
      "https://profile.line-scdn.net/0m04ae69387251d26cd4ae2b5f2534938fbb34e35e12de\n",
      "None\n"
     ]
    },
    {
     "name": "stderr",
     "output_type": "stream",
     "text": [
      "172.17.0.3 - - [28/Apr/2019 16:59:43] \"POST / HTTP/1.1\" 200 -\n",
      "172.17.0.3 - - [28/Apr/2019 17:05:17] \"POST / HTTP/1.1\" 200 -\n",
      "172.17.0.3 - - [28/Apr/2019 17:05:19] \"POST / HTTP/1.1\" 200 -\n",
      "172.17.0.3 - - [28/Apr/2019 17:05:29] \"POST / HTTP/1.1\" 200 -\n",
      "172.17.0.3 - - [28/Apr/2019 17:05:32] \"POST / HTTP/1.1\" 200 -\n",
      "172.17.0.3 - - [28/Apr/2019 17:05:43] \"POST / HTTP/1.1\" 200 -\n",
      "172.17.0.3 - - [28/Apr/2019 17:05:47] \"POST / HTTP/1.1\" 200 -\n",
      "172.17.0.3 - - [28/Apr/2019 17:05:57] \"POST / HTTP/1.1\" 200 -\n",
      "172.17.0.3 - - [28/Apr/2019 17:06:00] \"POST / HTTP/1.1\" 200 -\n",
      "172.17.0.3 - - [28/Apr/2019 17:06:04] \"POST / HTTP/1.1\" 200 -\n",
      "172.17.0.3 - - [28/Apr/2019 17:06:09] \"POST / HTTP/1.1\" 200 -\n",
      "172.17.0.3 - - [28/Apr/2019 17:10:19] \"POST / HTTP/1.1\" 200 -\n"
     ]
    },
    {
     "name": "stdout",
     "output_type": "stream",
     "text": [
      "False\n"
     ]
    },
    {
     "name": "stderr",
     "output_type": "stream",
     "text": [
      "172.17.0.3 - - [28/Apr/2019 17:10:23] \"POST / HTTP/1.1\" 200 -\n"
     ]
    },
    {
     "name": "stdout",
     "output_type": "stream",
     "text": [
      "True\n"
     ]
    },
    {
     "name": "stderr",
     "output_type": "stream",
     "text": [
      "172.17.0.3 - - [28/Apr/2019 17:10:30] \"POST / HTTP/1.1\" 200 -\n",
      "172.17.0.3 - - [28/Apr/2019 17:10:31] \"POST / HTTP/1.1\" 200 -\n"
     ]
    },
    {
     "name": "stdout",
     "output_type": "stream",
     "text": [
      "False\n"
     ]
    },
    {
     "name": "stderr",
     "output_type": "stream",
     "text": [
      "172.17.0.3 - - [28/Apr/2019 17:11:15] \"POST / HTTP/1.1\" 200 -\n"
     ]
    },
    {
     "name": "stdout",
     "output_type": "stream",
     "text": [
      "True\n"
     ]
    },
    {
     "name": "stderr",
     "output_type": "stream",
     "text": [
      "172.17.0.3 - - [28/Apr/2019 17:11:19] \"POST / HTTP/1.1\" 200 -\n",
      "172.17.0.3 - - [28/Apr/2019 17:11:21] \"POST / HTTP/1.1\" 200 -\n"
     ]
    },
    {
     "name": "stdout",
     "output_type": "stream",
     "text": [
      "False\n"
     ]
    },
    {
     "name": "stderr",
     "output_type": "stream",
     "text": [
      "172.17.0.3 - - [28/Apr/2019 17:11:24] \"POST / HTTP/1.1\" 200 -\n"
     ]
    },
    {
     "name": "stdout",
     "output_type": "stream",
     "text": [
      "True\n"
     ]
    },
    {
     "name": "stderr",
     "output_type": "stream",
     "text": [
      "172.17.0.3 - - [28/Apr/2019 17:11:28] \"POST / HTTP/1.1\" 200 -\n",
      "172.17.0.3 - - [28/Apr/2019 17:11:29] \"POST / HTTP/1.1\" 200 -\n"
     ]
    },
    {
     "name": "stdout",
     "output_type": "stream",
     "text": [
      "False\n"
     ]
    },
    {
     "name": "stderr",
     "output_type": "stream",
     "text": [
      "172.17.0.3 - - [28/Apr/2019 17:11:32] \"POST / HTTP/1.1\" 200 -\n",
      "172.17.0.3 - - [28/Apr/2019 17:11:36] \"POST / HTTP/1.1\" 200 -\n"
     ]
    },
    {
     "name": "stdout",
     "output_type": "stream",
     "text": [
      "True\n"
     ]
    },
    {
     "name": "stderr",
     "output_type": "stream",
     "text": [
      "172.17.0.3 - - [28/Apr/2019 17:11:37] \"POST / HTTP/1.1\" 200 -\n"
     ]
    },
    {
     "name": "stdout",
     "output_type": "stream",
     "text": [
      "False\n"
     ]
    },
    {
     "name": "stderr",
     "output_type": "stream",
     "text": [
      "172.17.0.3 - - [28/Apr/2019 17:11:42] \"POST / HTTP/1.1\" 200 -\n"
     ]
    },
    {
     "name": "stdout",
     "output_type": "stream",
     "text": [
      "True\n"
     ]
    },
    {
     "name": "stderr",
     "output_type": "stream",
     "text": [
      "172.17.0.3 - - [28/Apr/2019 17:11:45] \"POST / HTTP/1.1\" 200 -\n",
      "172.17.0.3 - - [28/Apr/2019 17:11:45] \"POST / HTTP/1.1\" 200 -\n"
     ]
    },
    {
     "name": "stdout",
     "output_type": "stream",
     "text": [
      "False\n"
     ]
    },
    {
     "name": "stderr",
     "output_type": "stream",
     "text": [
      "172.17.0.3 - - [28/Apr/2019 17:11:48] \"POST / HTTP/1.1\" 200 -\n"
     ]
    },
    {
     "name": "stdout",
     "output_type": "stream",
     "text": [
      "True\n"
     ]
    },
    {
     "name": "stderr",
     "output_type": "stream",
     "text": [
      "172.17.0.3 - - [28/Apr/2019 17:11:51] \"POST / HTTP/1.1\" 200 -\n",
      "172.17.0.3 - - [28/Apr/2019 17:11:52] \"POST / HTTP/1.1\" 200 -\n"
     ]
    },
    {
     "name": "stdout",
     "output_type": "stream",
     "text": [
      "True\n"
     ]
    },
    {
     "name": "stderr",
     "output_type": "stream",
     "text": [
      "172.17.0.3 - - [28/Apr/2019 17:11:55] \"POST / HTTP/1.1\" 200 -\n"
     ]
    },
    {
     "name": "stdout",
     "output_type": "stream",
     "text": [
      "True\n"
     ]
    },
    {
     "name": "stderr",
     "output_type": "stream",
     "text": [
      "172.17.0.3 - - [28/Apr/2019 17:11:58] \"POST / HTTP/1.1\" 200 -\n",
      "172.17.0.3 - - [28/Apr/2019 17:11:59] \"POST / HTTP/1.1\" 200 -\n"
     ]
    },
    {
     "name": "stdout",
     "output_type": "stream",
     "text": [
      "False\n"
     ]
    },
    {
     "name": "stderr",
     "output_type": "stream",
     "text": [
      "172.17.0.3 - - [28/Apr/2019 17:12:02] \"POST / HTTP/1.1\" 200 -\n"
     ]
    },
    {
     "name": "stdout",
     "output_type": "stream",
     "text": [
      "True\n"
     ]
    },
    {
     "name": "stderr",
     "output_type": "stream",
     "text": [
      "172.17.0.3 - - [28/Apr/2019 17:12:05] \"POST / HTTP/1.1\" 200 -\n",
      "172.17.0.3 - - [28/Apr/2019 17:12:06] \"POST / HTTP/1.1\" 200 -\n"
     ]
    },
    {
     "name": "stdout",
     "output_type": "stream",
     "text": [
      "False\n"
     ]
    },
    {
     "name": "stderr",
     "output_type": "stream",
     "text": [
      "172.17.0.3 - - [28/Apr/2019 17:12:09] \"POST / HTTP/1.1\" 200 -\n"
     ]
    },
    {
     "name": "stdout",
     "output_type": "stream",
     "text": [
      "True\n"
     ]
    },
    {
     "name": "stderr",
     "output_type": "stream",
     "text": [
      "172.17.0.3 - - [28/Apr/2019 17:12:12] \"POST / HTTP/1.1\" 200 -\n",
      "172.17.0.3 - - [28/Apr/2019 17:12:13] \"POST / HTTP/1.1\" 200 -\n"
     ]
    },
    {
     "name": "stdout",
     "output_type": "stream",
     "text": [
      "False\n"
     ]
    },
    {
     "name": "stderr",
     "output_type": "stream",
     "text": [
      "172.17.0.3 - - [28/Apr/2019 17:12:16] \"POST / HTTP/1.1\" 200 -\n"
     ]
    },
    {
     "name": "stdout",
     "output_type": "stream",
     "text": [
      "True\n"
     ]
    },
    {
     "name": "stderr",
     "output_type": "stream",
     "text": [
      "172.17.0.3 - - [28/Apr/2019 17:12:22] \"POST / HTTP/1.1\" 200 -\n",
      "172.17.0.3 - - [28/Apr/2019 17:12:22] \"POST / HTTP/1.1\" 200 -\n"
     ]
    },
    {
     "name": "stdout",
     "output_type": "stream",
     "text": [
      "True\n"
     ]
    },
    {
     "name": "stderr",
     "output_type": "stream",
     "text": [
      "172.17.0.3 - - [28/Apr/2019 17:12:26] \"POST / HTTP/1.1\" 200 -\n",
      "172.17.0.3 - - [28/Apr/2019 17:13:03] \"POST / HTTP/1.1\" 200 -\n"
     ]
    },
    {
     "name": "stdout",
     "output_type": "stream",
     "text": [
      "False\n"
     ]
    },
    {
     "name": "stderr",
     "output_type": "stream",
     "text": [
      "172.17.0.3 - - [28/Apr/2019 17:13:07] \"POST / HTTP/1.1\" 200 -\n"
     ]
    },
    {
     "name": "stdout",
     "output_type": "stream",
     "text": [
      "True\n"
     ]
    },
    {
     "name": "stderr",
     "output_type": "stream",
     "text": [
      "172.17.0.3 - - [28/Apr/2019 17:13:14] \"POST / HTTP/1.1\" 200 -\n",
      "172.17.0.3 - - [28/Apr/2019 17:13:15] \"POST / HTTP/1.1\" 200 -\n"
     ]
    },
    {
     "name": "stdout",
     "output_type": "stream",
     "text": [
      "False\n"
     ]
    },
    {
     "name": "stderr",
     "output_type": "stream",
     "text": [
      "172.17.0.3 - - [28/Apr/2019 17:13:18] \"POST / HTTP/1.1\" 200 -\n"
     ]
    },
    {
     "name": "stdout",
     "output_type": "stream",
     "text": [
      "False\n"
     ]
    },
    {
     "name": "stderr",
     "output_type": "stream",
     "text": [
      "172.17.0.3 - - [28/Apr/2019 17:13:24] \"POST / HTTP/1.1\" 200 -\n",
      "172.17.0.3 - - [28/Apr/2019 17:13:25] \"POST / HTTP/1.1\" 200 -\n",
      "172.17.0.3 - - [28/Apr/2019 17:13:38] \"POST / HTTP/1.1\" 200 -\n",
      "172.17.0.3 - - [28/Apr/2019 17:13:41] \"POST / HTTP/1.1\" 200 -\n",
      "172.17.0.3 - - [28/Apr/2019 17:13:49] \"POST / HTTP/1.1\" 200 -\n",
      "172.17.0.3 - - [28/Apr/2019 17:13:51] \"POST / HTTP/1.1\" 200 -\n",
      "172.17.0.3 - - [28/Apr/2019 17:13:57] \"POST / HTTP/1.1\" 200 -\n",
      "172.17.0.3 - - [28/Apr/2019 17:14:00] \"POST / HTTP/1.1\" 200 -\n",
      "172.17.0.3 - - [28/Apr/2019 17:14:06] \"POST / HTTP/1.1\" 200 -\n",
      "172.17.0.3 - - [28/Apr/2019 17:14:09] \"POST / HTTP/1.1\" 200 -\n"
     ]
    }
   ],
   "source": [
    "from flask import Flask, request, abort\n",
    "\n",
    "from linebot import (\n",
    "    LineBotApi, WebhookHandler\n",
    ")\n",
    "from linebot.exceptions import (\n",
    "    InvalidSignatureError\n",
    ")\n",
    "from linebot.models import (\n",
    "    MessageEvent, TextMessage, TextSendMessage, FollowEvent, ImageSendMessage, StickerSendMessage, \\\n",
    "    StickerMessage, TemplateSendMessage, ButtonsTemplate, MessageAction, ConfirmTemplate, CarouselTemplate, \\\n",
    "    CarouselColumn, PostbackEvent, QuickReply, QuickReplyButton, PostbackAction\n",
    ")\n",
    "\n",
    "import json\n",
    "import requests\n",
    "import random\n",
    "\n",
    "app = Flask(__name__)\n",
    "\n",
    "secretFile = json.load(open(\"../secretFile.txt\",\"r\"))\n",
    "richmenuId = secretFile['richmenuId']\n",
    "channelAccessToken = secretFile['channelAccessToken']\n",
    "channelSecret = secretFile['channelSecret']\n",
    "\n",
    "line_bot_api = LineBotApi(channelAccessToken)\n",
    "handler = WebhookHandler(channelSecret)\n",
    "\n",
    "def getProfile(userId):\n",
    "\n",
    "    profile = line_bot_api.get_profile(userId)\n",
    "    \n",
    "    print(profile.display_name)\n",
    "    print(profile.user_id)\n",
    "    print(profile.picture_url)\n",
    "    print(profile.status_message)\n",
    "    \n",
    "    return profile\n",
    "\n",
    "def linkRichmenuToUser(userId):\n",
    "    line_bot_api.link_rich_menu_to_user(userId, richmenuId)\n",
    "\n",
    "def correctAnswer(answer,trueAnswer):\n",
    "    if answer == trueAnswer:\n",
    "        return 'True'\n",
    "    else:\n",
    "        return 'False'\n",
    "    \n",
    "    \n",
    "    \n",
    "@app.route(\"/\", methods=['POST'])\n",
    "def callback():\n",
    "    # get X-Line-Signature header value\n",
    "    signature = request.headers['X-Line-Signature']\n",
    "\n",
    "    # get request body as text\n",
    "    body = request.get_data(as_text=True)\n",
    "    app.logger.info(\"Request body: \" + body)\n",
    "\n",
    "    # handle webhook body\n",
    "    try:\n",
    "        handler.handle(body, signature)\n",
    "    except InvalidSignatureError:\n",
    "        print(\"Invalid signature. Please check your channel access token/channel secret.\")\n",
    "        abort(400)\n",
    "\n",
    "    return 'OK'\n",
    "\n",
    "\n",
    "@handler.add(FollowEvent)\n",
    "def followMessage(event):\n",
    "    \n",
    "    userId = event.source.user_id\n",
    "    profile = getProfile(userId)\n",
    "    \n",
    "    displayName = profile.display_name\n",
    "    pictureUrl = profile.picture_url\n",
    "    \n",
    "    sendMessage = [\n",
    "        TextSendMessage(\n",
    "            text=\"哈囉%s，打開下面選單可以看到我們提供的服務喔!\" % (displayName)\n",
    "        ),\n",
    "        \n",
    "        TextSendMessage(\n",
    "            text=\"喔對了，這是你醜醜的照片\"\n",
    "        ),\n",
    "        \n",
    "        ImageSendMessage(\n",
    "            original_content_url= pictureUrl,\n",
    "            preview_image_url= pictureUrl\n",
    "        ),\n",
    "        \n",
    "        StickerSendMessage(\n",
    "            package_id='11537',\n",
    "            sticker_id='51626512'\n",
    "        )\n",
    "        \n",
    "    ]\n",
    "    \n",
    "    line_bot_api.reply_message(\n",
    "        event.reply_token,\n",
    "        sendMessage\n",
    "    )\n",
    "    linkRichmenuToUser(userId)\n",
    "\n",
    "    \n",
    "@handler.add(MessageEvent,message = StickerMessage)\n",
    "def stickerMessage(event):\n",
    "    \n",
    "    stickerId = str(random.randint(51626494,51626533))\n",
    "    \n",
    "    sendMessage = [\n",
    "        StickerSendMessage(\n",
    "            package_id='11537',\n",
    "            sticker_id=stickerId\n",
    "        )\n",
    "    ]\n",
    "    \n",
    "    line_bot_api.reply_message(\n",
    "        event.reply_token,\n",
    "        sendMessage\n",
    "    )\n",
    "    \n",
    "@handler.add(MessageEvent,message = TextMessage)\n",
    "def textMessage(event):\n",
    "    \n",
    "    sendMessage = []\n",
    "\n",
    "    message = event.message.text\n",
    "    \n",
    "    if '[::richmenu::]' in message:\n",
    "        if '各種語錄' in message:\n",
    "            \n",
    "            # 製作button template\n",
    "            buttons_template_message = TemplateSendMessage(\n",
    "                alt_text='各種語錄',\n",
    "                template=ButtonsTemplate(\n",
    "                    title='各種語錄',\n",
    "                    text='隨便點一個吧',\n",
    "                    actions=[\n",
    "                        MessageAction(\n",
    "                            label='英雄',\n",
    "                            text='[::template::]英雄',\n",
    "                        ),\n",
    "                        MessageAction(\n",
    "                            label='科學家',\n",
    "                            text='[::template::]科學家'\n",
    "                        ),\n",
    "                    ]\n",
    "                )\n",
    "            )\n",
    "            \n",
    "            # 將這個message加到要傳送的訊息裡面\n",
    "            sendMessage.append(buttons_template_message)\n",
    "        \n",
    "        if '古人語錄' in message:\n",
    "            carousel_template_message = TemplateSendMessage(\n",
    "                alt_text='Carousel template',\n",
    "                template=CarouselTemplate(\n",
    "                    columns=[\n",
    "                        CarouselColumn(\n",
    "                            thumbnail_image_url='https://github.com/raymonddtrt/lineBot_tutorial/blob/master/material/Images/mainCarouselEast.jpg?raw=true',\n",
    "                            title='東方',\n",
    "                            text='東方古人',\n",
    "                            actions=[\n",
    "                                MessageAction(\n",
    "                                    label='曾參',\n",
    "                                    text='[::mainCarousel::][::east::]曾參'\n",
    "                                ),\n",
    "                                MessageAction(\n",
    "                                    label='曹操',\n",
    "                                    text='[::mainCarousel::][::east::]曹操'\n",
    "                                )\n",
    "                            ]\n",
    "                        ),\n",
    "                        CarouselColumn(\n",
    "                            thumbnail_image_url='https://github.com/raymonddtrt/lineBot_tutorial/blob/master/material/Images/mainCarouselWest.jpg?raw=true',\n",
    "                            title='西方',\n",
    "                            text='西方古人',\n",
    "                            actions=[\n",
    "                                MessageAction(\n",
    "                                    label='哥倫布',\n",
    "                                    text='[::mainCarousel::][::west::]哥倫布'\n",
    "                                ),\n",
    "                                MessageAction(\n",
    "                                    label='阿基米德',\n",
    "                                    text='[::mainCarousel::][::west::]阿基米德'\n",
    "                                )\n",
    "                            ]\n",
    "                        )\n",
    "                    ]\n",
    "                )\n",
    "            )\n",
    "            sendMessage.append(carousel_template_message)\n",
    "        \n",
    "        if '隨機問答' in message:\n",
    "            res = requests.get('https://script.google.com/macros/s/AKfycbxofjii4s_Lt29J0QiBB8KJCKoLkZJhnAMkPkoQA5DhDRN2TKQW/exec')\n",
    "            questionJson = json.loads(res.text)\n",
    "            \n",
    "            questionDescription = questionJson['question']\n",
    "            questionAnswer = questionJson['answer']\n",
    "            questionOptionsArray = questionJson['options']\n",
    "            questionOption = '\\n'.join(questionOptionsArray)\n",
    "            \n",
    "            questionDescription_text_message = TextSendMessage(text=questionDescription)\n",
    "            questionOption_text_message = TextSendMessage(text=questionOption)\n",
    "            print(correctAnswer('A',questionAnswer))\n",
    "            quickReply_text_message = TextSendMessage(text='請選擇',\n",
    "                               quick_reply=QuickReply(items=[\n",
    "                                   QuickReplyButton(action=PostbackAction(label=\"A\", text=\"[::quickReply::]A\", data=correctAnswer('A',questionAnswer))),\n",
    "                                   QuickReplyButton(action=PostbackAction(label=\"B\", text=\"[::quickReply::]B\", data=correctAnswer('B',questionAnswer))),\n",
    "                                   QuickReplyButton(action=PostbackAction(label=\"C\", text=\"[::quickReply::]C\", data=correctAnswer('C',questionAnswer))),\n",
    "                                   QuickReplyButton(action=PostbackAction(label=\"D\", text=\"[::quickReply::]D\", data=correctAnswer('D',questionAnswer)))\n",
    "                               ]))\n",
    "            sendMessage.append(questionDescription_text_message)\n",
    "            sendMessage.append(questionOption_text_message)\n",
    "            sendMessage.append(quickReply_text_message)\n",
    "            \n",
    "    if '[::template::]' in message:\n",
    "        if '英雄' in message:\n",
    "            \n",
    "            randNum = str(random.randint(1,5))\n",
    "            imageUrl='https://github.com/raymonddtrt/lineBot_tutorial/blob/master/material/Images/templateHero%s.jpg?raw=true' % (randNum)\n",
    "            \n",
    "            image_message = ImageSendMessage(\n",
    "                original_content_url=imageUrl,\n",
    "                preview_image_url=imageUrl\n",
    "            )\n",
    "            \n",
    "            sendMessage.append(image_message)\n",
    "        \n",
    "        if '科學家' in message:\n",
    "            \n",
    "            randNum = str(random.randint(1,4))\n",
    "            imageUrl='https://github.com/raymonddtrt/lineBot_tutorial/blob/master/material/Images/templateScientist%s.jpg?raw=true' % (randNum)\n",
    "            \n",
    "            image_message = ImageSendMessage(\n",
    "                original_content_url=imageUrl,\n",
    "                preview_image_url=imageUrl\n",
    "            )\n",
    "            \n",
    "            sendMessage.append(image_message)\n",
    "    \n",
    "        # 增加確認訊息，詢問用戶是否要離開當前功能\n",
    "        confirm_template_message = TemplateSendMessage(\n",
    "            alt_text='Confirm template',\n",
    "            template=ConfirmTemplate(\n",
    "                text='要繼續玩嗎?',\n",
    "                actions=[\n",
    "                    MessageAction(\n",
    "                        label='是',\n",
    "                        text='[::confirmTemplate::][::richmenu::]各種語錄'\n",
    "                    ),\n",
    "                    MessageAction(\n",
    "                        label='否',\n",
    "                        text='[::confirmTemplate::]離開'\n",
    "                    )\n",
    "                ]\n",
    "            )\n",
    "        )\n",
    "    \n",
    "        sendMessage.append(confirm_template_message)\n",
    "    \n",
    "    if '[::confirmTemplate::]離開' in message:\n",
    "        text_message = TextSendMessage(text='好的，謝謝你的使用')\n",
    "        \n",
    "        sendMessage.append(text_message)\n",
    "        \n",
    "    \n",
    "    if '[::mainCarousel::]' in message:\n",
    "        if '[::east::]' in message:\n",
    "            if '曹操' in message:\n",
    "                text_message = TextSendMessage(text='寧可我負天下人，不讓天下人負你')\n",
    "            else:\n",
    "                text_message = TextSendMessage(text='吾日三省吾身，四省你')\n",
    "        if '[::west::]' in message:\n",
    "            if '哥倫布' in message:\n",
    "                text_message = TextSendMessage(text='我最偉大的成就不是發現新大陸，是發現你')\n",
    "            else:\n",
    "                text_message = TextSendMessage(text='給我一個支點，我能翹動你的心')\n",
    "        sendMessage.append(text_message)\n",
    "    \n",
    "    # 記得判斷 sendMessage 是否為空list\n",
    "    if sendMessage:\n",
    "        line_bot_api.reply_message(\n",
    "            event.reply_token,\n",
    "            sendMessage\n",
    "        )\n",
    "\n",
    "# PostbackEvent順序優於MessageEvent\n",
    "@handler.add(PostbackEvent)\n",
    "def postBackMessage(event):\n",
    "\n",
    "    if event.postback.data == \"True\":\n",
    "        text_message = TextSendMessage(text='阿不就好棒棒')\n",
    "    else:\n",
    "        text_message = TextSendMessage(text='嫩，這麼簡單也錯')\n",
    "    print(event.postback.data)\n",
    "    \n",
    "    line_bot_api.reply_message(\n",
    "        event.reply_token,\n",
    "        text_message\n",
    "    )\n",
    "    \n",
    "if __name__ == \"__main__\":\n",
    "    app.run(host='0.0.0.0',port=5000)"
   ]
  },
  {
   "cell_type": "code",
   "execution_count": null,
   "metadata": {},
   "outputs": [],
   "source": []
  }
 ],
 "metadata": {
  "kernelspec": {
   "display_name": "Python 3",
   "language": "python",
   "name": "python3"
  },
  "language_info": {
   "codemirror_mode": {
    "name": "ipython",
    "version": 3
   },
   "file_extension": ".py",
   "mimetype": "text/x-python",
   "name": "python",
   "nbconvert_exporter": "python",
   "pygments_lexer": "ipython3",
   "version": "3.7.3"
  }
 },
 "nbformat": 4,
 "nbformat_minor": 2
}
