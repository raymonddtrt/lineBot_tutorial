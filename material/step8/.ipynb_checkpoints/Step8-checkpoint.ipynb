{
 "cells": [
  {
   "cell_type": "code",
   "execution_count": 3,
   "metadata": {},
   "outputs": [],
   "source": [
    "from linebot import (\n",
    "    LineBotApi, WebhookHandler\n",
    ")\n",
    "\n",
    "from linebot.models import (\n",
    "    TextSendMessage\n",
    ")\n",
    "\n",
    "import json\n",
    "\n",
    "secretFile = json.load(open(\"../secretFile.txt\",\"r\"))\n",
    "\n",
    "channelAccessToken = secretFile['channelAccessToken']\n",
    "userId = secretFile['userId']\n",
    "\n",
    "line_bot_api = LineBotApi(channelAccessToken)\n",
    "\n",
    "# 針對單一用戶做訊息發布\n",
    "line_bot_api.push_message(userId, TextSendMessage(text='Hello World!'))\n",
    "\n",
    "# 針對多位用戶做訊息發布\n",
    "line_bot_api.multicast(['to1', 'to2'], TextSendMessage(text='Hello World!'))"
   ]
  },
  {
   "cell_type": "code",
   "execution_count": null,
   "metadata": {},
   "outputs": [],
   "source": []
  }
 ],
 "metadata": {
  "kernelspec": {
   "display_name": "Python 3",
   "language": "python",
   "name": "python3"
  },
  "language_info": {
   "codemirror_mode": {
    "name": "ipython",
    "version": 3
   },
   "file_extension": ".py",
   "mimetype": "text/x-python",
   "name": "python",
   "nbconvert_exporter": "python",
   "pygments_lexer": "ipython3",
   "version": "3.7.3"
  }
 },
 "nbformat": 4,
 "nbformat_minor": 2
}
